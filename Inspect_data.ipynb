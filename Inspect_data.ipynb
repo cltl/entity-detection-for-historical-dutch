{
 "cells": [
  {
   "cell_type": "code",
   "execution_count": 28,
   "metadata": {},
   "outputs": [],
   "source": [
    "import pickle\n",
    "import glob\n",
    "from collections import Counter, defaultdict\n",
    "import networkx as nx\n",
    "import numpy as np"
   ]
  },
  {
   "cell_type": "code",
   "execution_count": 29,
   "metadata": {},
   "outputs": [],
   "source": [
    "def inspect(data, with_types=False, graph=None):\n",
    "    num_mentions=0\n",
    "    identities=set()\n",
    "    occurence_types=[]\n",
    "    instance_types={}\n",
    "    degrees_per_type=defaultdict(list)\n",
    "    \n",
    "    max_degree=0\n",
    "    max_degree_node=None\n",
    "    \n",
    "    print(len(data), 'news documents')\n",
    "    for news_item_obj in data:\n",
    "        for m in news_item_obj.sys_entity_mentions:\n",
    "            identities.add(m.identity)\n",
    "            if with_types:\n",
    "                a_type=m.the_type\n",
    "                occurence_types.append(a_type)\n",
    "                instance_types[m.identity]=a_type\n",
    "        num_mentions+=len(news_item_obj.sys_entity_mentions)\n",
    "        \n",
    "    for identity in instance_types.keys():\n",
    "        degree=len(graph.adj[identity])\n",
    "        degrees_per_type[identity[-3:]].append(degree)\n",
    "        if degree>max_degree:\n",
    "            max_degree=degree\n",
    "            max_degree_node=identity\n",
    "        \n",
    "    print('Num mentions', num_mentions)\n",
    "    print('Num identities', len(identities))\n",
    "    print('Type distribution of occurrences', Counter(occurence_types))\n",
    "    print('Type distribution of aggregated instances', Counter(instance_types.values()))\n",
    "    for k,v in degrees_per_type.items():\n",
    "        print(k, round(np.mean(v),1), '/', round(np.std(v),1))\n",
    "    print('Max degree node', max_degree_node, max_degree)"
   ]
  },
  {
   "cell_type": "code",
   "execution_count": 31,
   "metadata": {},
   "outputs": [
    {
     "name": "stdout",
     "output_type": "stream",
     "text": [
      "bin/mention_docid_type_graph.pkl\n",
      "3925 news documents\n",
      "Num mentions 66728\n",
      "Num identities 49686\n",
      "Type distribution of occurrences Counter({'LOC': 25890, 'MISC': 16203, 'PER': 15612, 'ORG': 9023})\n",
      "Type distribution of aggregated instances Counter({'LOC': 18099, 'MISC': 12833, 'PER': 11778, 'ORG': 6976})\n",
      "LOC 16.2 / 11.5\n",
      "ISC 16.1 / 11.8\n",
      "ORG 18.7 / 14.1\n",
      "PER 17.8 / 12.5\n",
      "Max degree node http://cltl.nl/entity#Nederland2795LOC 107\n",
      "\n",
      "bin/mention__graph.pkl\n",
      "3925 news documents\n",
      "Num mentions 66728\n",
      "Num identities 21034\n",
      "Type distribution of occurrences Counter()\n",
      "Type distribution of aggregated instances Counter()\n",
      "Max degree node None 0\n",
      "\n",
      "bin/documents.pkl\n",
      "3925 news documents\n",
      "Num mentions 66728\n",
      "Num identities 1\n",
      "Type distribution of occurrences Counter()\n",
      "Type distribution of aggregated instances Counter()\n",
      "Max degree node None 0\n",
      "\n",
      "bin/mention_type_graph.pkl\n",
      "3925 news documents\n",
      "Num mentions 66728\n",
      "Num identities 22641\n",
      "Type distribution of occurrences Counter({'LOC': 25890, 'MISC': 16203, 'PER': 15612, 'ORG': 9023})\n",
      "Type distribution of aggregated instances Counter({'PER': 7676, 'LOC': 7191, 'MISC': 4606, 'ORG': 3168})\n",
      "PER 25.3 / 50.9\n",
      "ISC 36.9 / 231.9\n",
      "LOC 34.8 / 100.0\n",
      "ORG 36.6 / 79.0\n",
      "Max degree node http://cltl.nl/entity#UitnodigingMISC 13548\n",
      "\n",
      "bin/mention_docid_graph.pkl\n",
      "3925 news documents\n",
      "Num mentions 66728\n",
      "Num identities 48520\n",
      "Type distribution of occurrences Counter()\n",
      "Type distribution of aggregated instances Counter()\n",
      "Max degree node None 0\n",
      "\n"
     ]
    }
   ],
   "source": [
    "input_dir='bin'\n",
    "if __name__ == \"__main__\":\n",
    "    for file in glob.glob('%s/*.pkl' % input_dir):\n",
    "        print(file)\n",
    "        with open(file, 'rb') as f:\n",
    "            data=pickle.load(f)\n",
    "        with_types='type' in file\n",
    "        g=None\n",
    "        if with_types:\n",
    "            graph_file=file.replace('.pkl', '.graph')\n",
    "            g=nx.read_gpickle(graph_file)\n",
    "        inspect(data, with_types, g)\n",
    "        print()"
   ]
  },
  {
   "cell_type": "code",
   "execution_count": null,
   "metadata": {},
   "outputs": [],
   "source": []
  }
 ],
 "metadata": {
  "kernelspec": {
   "display_name": "Python 3",
   "language": "python",
   "name": "python3"
  },
  "language_info": {
   "codemirror_mode": {
    "name": "ipython",
    "version": 3
   },
   "file_extension": ".py",
   "mimetype": "text/x-python",
   "name": "python",
   "nbconvert_exporter": "python",
   "pygments_lexer": "ipython3",
   "version": "3.7.2"
  }
 },
 "nbformat": 4,
 "nbformat_minor": 2
}
