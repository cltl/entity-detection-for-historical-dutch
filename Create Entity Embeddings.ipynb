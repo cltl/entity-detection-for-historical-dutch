{
 "cells": [
  {
   "cell_type": "code",
   "execution_count": 25,
   "metadata": {},
   "outputs": [],
   "source": [
    "from gensim.models import Word2Vec\n",
    "import pickle\n",
    "from sklearn.metrics.pairwise import cosine_similarity\n",
    "import numpy as np\n",
    "import spacy\n",
    "import nl_core_news_sm\n",
    "nl_nlp=nl_core_news_sm.load()"
   ]
  },
  {
   "cell_type": "code",
   "execution_count": 14,
   "metadata": {},
   "outputs": [],
   "source": [
    "input_data = [['This', 'is', 'sentence', 'one'], ['And', 'this', 'is', 'sentence', 'two']]\n",
    "all_sentences=input_data"
   ]
  },
  {
   "cell_type": "code",
   "execution_count": 15,
   "metadata": {},
   "outputs": [],
   "source": [
    "if __name__ == \"__main__\":\n",
    "    input_dir='documents'\n",
    "    with open('bin/%s.pkl' % input_dir, 'rb') as f:\n",
    "        news_items_with_entities=pickle.load(f)        "
   ]
  },
  {
   "cell_type": "code",
   "execution_count": 20,
   "metadata": {},
   "outputs": [],
   "source": [
    "all_sentences=[]\n",
    "for news_item in news_items_with_entities:\n",
    "    #print(news_item.title)\n",
    "    text=f\"{news_item.title}\\n{news_item.content}\"\n",
    "    nl_doc=nl_nlp(text)\n",
    "    for sent in nl_doc.sents:\n",
    "        sent_tokens = [t.text for t in sent]\n",
    "        all_sentences.append(sent_tokens)"
   ]
  },
  {
   "cell_type": "code",
   "execution_count": 21,
   "metadata": {},
   "outputs": [
    {
     "name": "stdout",
     "output_type": "stream",
     "text": [
      "53294\n"
     ]
    }
   ],
   "source": [
    "print(len(all_sentences))"
   ]
  },
  {
   "cell_type": "code",
   "execution_count": 23,
   "metadata": {},
   "outputs": [],
   "source": [
    "model = Word2Vec(all_sentences, \n",
    "                 min_count=2,   # Ignore words that appear less than this\n",
    "                 size=200,      # Dimensionality of word embeddings\n",
    "                 workers=2,     # Number of processors (parallelisation)\n",
    "                 window=5,      # Context window for words during training\n",
    "                 iter=30)       # Number of epochs training over corpus"
   ]
  },
  {
   "cell_type": "code",
   "execution_count": 26,
   "metadata": {},
   "outputs": [],
   "source": [
    "def compute_similarity(w1, w2, vectors):\n",
    "    v1=np.array(vectors[w1]).reshape(1, -1)\n",
    "    v2=np.array(vectors[w2]).reshape(1, -1)\n",
    "    return cosine_similarity(v1, v2)"
   ]
  },
  {
   "cell_type": "code",
   "execution_count": 48,
   "metadata": {},
   "outputs": [
    {
     "name": "stdout",
     "output_type": "stream",
     "text": [
      "[[0.05572846]]\n"
     ]
    },
    {
     "name": "stderr",
     "output_type": "stream",
     "text": [
      "/anaconda3/lib/python3.7/site-packages/ipykernel_launcher.py:2: DeprecationWarning: Call to deprecated `__getitem__` (Method will be removed in 4.0.0, use self.wv.__getitem__() instead).\n",
      "  \n",
      "/anaconda3/lib/python3.7/site-packages/ipykernel_launcher.py:3: DeprecationWarning: Call to deprecated `__getitem__` (Method will be removed in 4.0.0, use self.wv.__getitem__() instead).\n",
      "  This is separate from the ipykernel package so we can avoid doing imports until\n"
     ]
    }
   ],
   "source": [
    "w1='Uitnodiging'\n",
    "w2='welkom'\n",
    "s=compute_similarity(w1, w2, model)\n",
    "print(s)"
   ]
  },
  {
   "cell_type": "markdown",
   "metadata": {},
   "source": [
    "### Next steps/open questions\n",
    "\n",
    "1. How to go from word to entity embeddings:\n",
    "        2.1 How to transform the entities? (if we change them to say concatenate the phrase with an underscore, then the same phrase still gets the same embedding\n",
    "        2.2 Or do we build the embedding though aggregating the surrounding words? That would be reasonable.\n",
    "2. Do we preprocess the data? Lemmatize, remove punctuation, lower-case letters, etc.\n",
    "3. On what data do we want to train the network? There is not much dutch data out there. Well, Wikipedia is an option.\n",
    "4. Document-level embeddings"
   ]
  },
  {
   "cell_type": "code",
   "execution_count": null,
   "metadata": {},
   "outputs": [],
   "source": []
  }
 ],
 "metadata": {
  "kernelspec": {
   "display_name": "Python 3",
   "language": "python",
   "name": "python3"
  },
  "language_info": {
   "codemirror_mode": {
    "name": "ipython",
    "version": 3
   },
   "file_extension": ".py",
   "mimetype": "text/x-python",
   "name": "python",
   "nbconvert_exporter": "python",
   "pygments_lexer": "ipython3",
   "version": "3.7.2"
  }
 },
 "nbformat": 4,
 "nbformat_minor": 2
}
