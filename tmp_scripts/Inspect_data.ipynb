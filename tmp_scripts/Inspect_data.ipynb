{
 "cells": [
  {
   "cell_type": "code",
   "execution_count": 4,
   "metadata": {},
   "outputs": [],
   "source": [
    "import entity_utils as utils\n",
    "import pickle\n",
    "import glob\n",
    "import networkx as nx"
   ]
  },
  {
   "cell_type": "code",
   "execution_count": 5,
   "metadata": {},
   "outputs": [
    {
     "name": "stdout",
     "output_type": "stream",
     "text": [
      "bin/el/mention_docid_type_graph.pkl\n",
      "3925 news documents\n",
      "Num mentions 66728\n",
      "Num identities 49686\n",
      "Type distribution of occurrences Counter({'LOC': 25890, 'MISC': 16203, 'PER': 15612, 'ORG': 9023})\n",
      "Type distribution of aggregated instances Counter({'LOC': 18099, 'MISC': 12833, 'PER': 11778, 'ORG': 6976})\n",
      "LOC 16.2 / 11.5\n",
      "ISC 16.1 / 11.8\n",
      "ORG 18.7 / 14.1\n",
      "PER 17.8 / 12.5\n",
      "Max degree node http://cltl.nl/entity#Nederland2795LOC 107\n",
      "\n",
      "bin/el/mention__graph.pkl\n",
      "3925 news documents\n",
      "Num mentions 66728\n",
      "Num identities 21034\n",
      "\n",
      "bin/el/mention_type_graph.pkl\n",
      "3925 news documents\n",
      "Num mentions 66728\n",
      "Num identities 22641\n",
      "Type distribution of occurrences Counter({'LOC': 25890, 'MISC': 16203, 'PER': 15612, 'ORG': 9023})\n",
      "Type distribution of aggregated instances Counter({'PER': 7676, 'LOC': 7191, 'MISC': 4606, 'ORG': 3168})\n",
      "LOC 34.8 / 100.0\n",
      "ISC 36.9 / 231.9\n",
      "PER 25.3 / 50.9\n",
      "ORG 36.6 / 79.0\n",
      "Max degree node http://cltl.nl/entity#UitnodigingMISC 13548\n",
      "\n",
      "bin/el/mention_docid_graph.pkl\n",
      "3925 news documents\n",
      "Num mentions 66728\n",
      "Num identities 48520\n",
      "\n"
     ]
    }
   ],
   "source": [
    "input_dir='bin'\n",
    "if __name__ == \"__main__\":\n",
    "    for file in glob.glob('%s/el/*.pkl' % input_dir):\n",
    "        print(file)\n",
    "        with open(file, 'rb') as f:\n",
    "            data=pickle.load(f)\n",
    "        with_types='type' in file\n",
    "        g=None\n",
    "        if with_types:\n",
    "            graph_file=file.replace('.pkl', '.graph').replace('/el', '/graphs')\n",
    "            g=nx.read_gpickle(graph_file)\n",
    "        utils.inspect(data, with_types, g)\n",
    "        print()"
   ]
  },
  {
   "cell_type": "code",
   "execution_count": null,
   "metadata": {},
   "outputs": [],
   "source": []
  }
 ],
 "metadata": {
  "kernelspec": {
   "display_name": "Python 3",
   "language": "python",
   "name": "python3"
  },
  "language_info": {
   "codemirror_mode": {
    "name": "ipython",
    "version": 3
   },
   "file_extension": ".py",
   "mimetype": "text/x-python",
   "name": "python",
   "nbconvert_exporter": "python",
   "pygments_lexer": "ipython3",
   "version": "3.7.2"
  }
 },
 "nbformat": 4,
 "nbformat_minor": 2
}
